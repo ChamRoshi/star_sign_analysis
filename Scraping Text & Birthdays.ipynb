{
 "cells": [
  {
   "cell_type": "code",
   "execution_count": 14,
   "metadata": {},
   "outputs": [],
   "source": [
    "from tqdm import tqdm"
   ]
  },
  {
   "cell_type": "code",
   "execution_count": 1,
   "metadata": {},
   "outputs": [],
   "source": [
    "import wikipediaapi\n",
    "import wikipedia"
   ]
  },
  {
   "cell_type": "code",
   "execution_count": 2,
   "metadata": {},
   "outputs": [],
   "source": [
    "wiki_wiki = wikipediaapi.Wikipedia(\n",
    "    user_agent=\"Star_sign_prediction (jbm112358@gmail.com)\", language=\"en\"\n",
    ")"
   ]
  },
  {
   "cell_type": "code",
   "execution_count": 3,
   "metadata": {},
   "outputs": [
    {
     "data": {
      "text/plain": [
       "'Heinrich Georg Bronn'"
      ]
     },
     "execution_count": 3,
     "metadata": {},
     "output_type": "execute_result"
    }
   ],
   "source": [
    "celeb = \"Heinrich Georg Bronn, German geologist and paleontologist (d. 1862)\"\n",
    "page = wikipedia.page(celeb)\n",
    "page.title"
   ]
  },
  {
   "cell_type": "code",
   "execution_count": 4,
   "metadata": {},
   "outputs": [
    {
     "data": {
      "text/plain": [
       "\"Heinrich Georg Bronn (3 March 1800 – 5 July 1862) was a German geologist and paleontologist. He was the first to translate Charles Darwin's On the Origin of Species into German in 1860, although not without introducing his own interpretations, as also a chapter critiquing the work.\""
      ]
     },
     "execution_count": 4,
     "metadata": {},
     "output_type": "execute_result"
    }
   ],
   "source": [
    "page.summary"
   ]
  },
  {
   "cell_type": "code",
   "execution_count": 5,
   "metadata": {},
   "outputs": [
    {
     "data": {
      "text/plain": [
       "'3 March 1800'"
      ]
     },
     "execution_count": 5,
     "metadata": {},
     "output_type": "execute_result"
    }
   ],
   "source": [
    "page.summary.split(\"(\")[1].split(\" – \")[0]"
   ]
  },
  {
   "cell_type": "code",
   "execution_count": 6,
   "metadata": {},
   "outputs": [],
   "source": [
    "def get_data(celeb):\n",
    "    page = wikipedia.page(celeb)\n",
    "    page.url\n",
    "    date = page.summary.split(\"(\")[1].split(\" – \")[0]\n",
    "    content = page.content\n",
    "    return date, content"
   ]
  },
  {
   "cell_type": "code",
   "execution_count": 7,
   "metadata": {},
   "outputs": [],
   "source": [
    "def mp_get_data(celeb):\n",
    "    page = wikipedia.page(celeb)\n",
    "    page.url\n",
    "    date = page.summary.split(\"(\")[1].split(\" – \")[0]\n",
    "    content = page.content\n",
    "    returnr = {\"celeb\": celeb, \"date\": date, \"content\": content}\n",
    "    return returnr"
   ]
  },
  {
   "cell_type": "code",
   "execution_count": 8,
   "metadata": {},
   "outputs": [
    {
     "data": {
      "text/html": [
       "<div>\n",
       "<style scoped>\n",
       "    .dataframe tbody tr th:only-of-type {\n",
       "        vertical-align: middle;\n",
       "    }\n",
       "\n",
       "    .dataframe tbody tr th {\n",
       "        vertical-align: top;\n",
       "    }\n",
       "\n",
       "    .dataframe thead th {\n",
       "        text-align: right;\n",
       "    }\n",
       "</style>\n",
       "<table border=\"1\" class=\"dataframe\">\n",
       "  <thead>\n",
       "    <tr style=\"text-align: right;\">\n",
       "      <th></th>\n",
       "      <th>Unnamed: 0</th>\n",
       "      <th>Year</th>\n",
       "      <th>Name</th>\n",
       "      <th>date</th>\n",
       "    </tr>\n",
       "  </thead>\n",
       "  <tbody>\n",
       "    <tr>\n",
       "      <th>0</th>\n",
       "      <td>0</td>\n",
       "      <td>Section: Births (1):</td>\n",
       "      <td>NaN</td>\n",
       "      <td>January 1</td>\n",
       "    </tr>\n",
       "    <tr>\n",
       "      <th>1</th>\n",
       "      <td>1</td>\n",
       "      <td>NaN</td>\n",
       "      <td>NaN</td>\n",
       "      <td>January 1</td>\n",
       "    </tr>\n",
       "    <tr>\n",
       "      <th>2</th>\n",
       "      <td>2</td>\n",
       "      <td>Subsections (3):</td>\n",
       "      <td>NaN</td>\n",
       "      <td>January 1</td>\n",
       "    </tr>\n",
       "    <tr>\n",
       "      <th>3</th>\n",
       "      <td>3</td>\n",
       "      <td>Section: Pre-1600 (2):</td>\n",
       "      <td>NaN</td>\n",
       "      <td>January 1</td>\n",
       "    </tr>\n",
       "    <tr>\n",
       "      <th>4</th>\n",
       "      <td>4</td>\n",
       "      <td>766</td>\n",
       "      <td>Ali al-Ridha, 8th Imam of Twelver Shia Islam (...</td>\n",
       "      <td>January 1</td>\n",
       "    </tr>\n",
       "  </tbody>\n",
       "</table>\n",
       "</div>"
      ],
      "text/plain": [
       "   Unnamed: 0                    Year  \\\n",
       "0           0    Section: Births (1):   \n",
       "1           1                     NaN   \n",
       "2           2        Subsections (3):   \n",
       "3           3  Section: Pre-1600 (2):   \n",
       "4           4                     766   \n",
       "\n",
       "                                                Name       date  \n",
       "0                                                NaN  January 1  \n",
       "1                                                NaN  January 1  \n",
       "2                                                NaN  January 1  \n",
       "3                                                NaN  January 1  \n",
       "4  Ali al-Ridha, 8th Imam of Twelver Shia Islam (...  January 1  "
      ]
     },
     "execution_count": 8,
     "metadata": {},
     "output_type": "execute_result"
    }
   ],
   "source": [
    "df = pd.read_csv(\"famous_births.csv\")\n",
    "df.head()"
   ]
  },
  {
   "cell_type": "code",
   "execution_count": 9,
   "metadata": {},
   "outputs": [
    {
     "data": {
      "text/plain": [
       "83251"
      ]
     },
     "execution_count": 9,
     "metadata": {},
     "output_type": "execute_result"
    }
   ],
   "source": [
    "len(df)"
   ]
  },
  {
   "cell_type": "code",
   "execution_count": null,
   "metadata": {},
   "outputs": [
    {
     "name": "stderr",
     "output_type": "stream",
     "text": [
      "27940it [8:31:51,  1.19s/it]"
     ]
    }
   ],
   "source": [
    "dates = []\n",
    "summaries = []\n",
    "for num, celeb in tqdm(enumerate(df[\"Name\"])): \n",
    "    if num%500 == 0: \n",
    "        # print(num)\n",
    "        pass\n",
    "    \n",
    "    \n",
    "    try:\n",
    "        d, c = get_data(celeb)\n",
    "    except Exception as e: \n",
    "        # print(num, celeb, e)\n",
    "        d = \"\"\n",
    "        c = \"\"\n",
    "    dates.append(d)\n",
    "    summaries.append(c)"
   ]
  },
  {
   "cell_type": "code",
   "execution_count": null,
   "metadata": {},
   "outputs": [],
   "source": [
    "df[\"birthday\"] = dates\n",
    "df[\"summary\"] = summaries\n",
    "df.to_csv(\"dated_births.csv\")"
   ]
  },
  {
   "cell_type": "code",
   "execution_count": null,
   "metadata": {},
   "outputs": [],
   "source": []
  },
  {
   "cell_type": "code",
   "execution_count": null,
   "metadata": {},
   "outputs": [],
   "source": []
  }
 ],
 "metadata": {
  "kernelspec": {
   "display_name": "Python 3 (ipykernel)",
   "language": "python",
   "name": "python3"
  },
  "language_info": {
   "codemirror_mode": {
    "name": "ipython",
    "version": 3
   },
   "file_extension": ".py",
   "mimetype": "text/x-python",
   "name": "python",
   "nbconvert_exporter": "python",
   "pygments_lexer": "ipython3",
   "version": "3.10.8"
  }
 },
 "nbformat": 4,
 "nbformat_minor": 4
}
