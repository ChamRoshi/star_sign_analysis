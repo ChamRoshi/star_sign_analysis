{
 "cells": [
  {
   "cell_type": "code",
   "execution_count": 11,
   "metadata": {},
   "outputs": [],
   "source": [
    "import wikipedia"
   ]
  },
  {
   "cell_type": "code",
   "execution_count": 12,
   "metadata": {},
   "outputs": [
    {
     "data": {
      "text/plain": [
       "'https://en.wikipedia.org/wiki/Heinrich_Georg_Bronn'"
      ]
     },
     "execution_count": 12,
     "metadata": {},
     "output_type": "execute_result"
    }
   ],
   "source": [
    "celeb = \"Heinrich Georg Bronn, German geologist and paleontologist (d. 1862)\"\n",
    "page = wikipedia.page(celeb)\n",
    "page.url"
   ]
  },
  {
   "cell_type": "code",
   "execution_count": 13,
   "metadata": {},
   "outputs": [
    {
     "data": {
      "text/plain": [
       "'3 March 1800'"
      ]
     },
     "execution_count": 13,
     "metadata": {},
     "output_type": "execute_result"
    }
   ],
   "source": [
    "page.summary.split(\"(\")[1].split(\" – \")[0]"
   ]
  },
  {
   "cell_type": "code",
   "execution_count": 14,
   "metadata": {},
   "outputs": [],
   "source": [
    "def get_data(celeb): \n",
    "    page = wikipedia.page(celeb)\n",
    "    page.url\n",
    "    date = page.summary.split(\"(\")[1].split(\" – \")[0] \n",
    "    content = page.content\n",
    "    return date, content"
   ]
  },
  {
   "cell_type": "code",
   "execution_count": null,
   "metadata": {},
   "outputs": [],
   "source": [
    "def mp_get_data(celeb): \n",
    "    page = wikipedia.page(celeb)\n",
    "    page.url\n",
    "    date = page.summary.split(\"(\")[1].split(\" – \")[0] \n",
    "    content = page.content\n",
    "    returnr = {\"celeb\": celeb, \"date\": date, \"content\": content}\n",
    "    return returnr"
   ]
  },
  {
   "cell_type": "code",
   "execution_count": 15,
   "metadata": {},
   "outputs": [
    {
     "data": {
      "text/html": [
       "<div>\n",
       "<style scoped>\n",
       "    .dataframe tbody tr th:only-of-type {\n",
       "        vertical-align: middle;\n",
       "    }\n",
       "\n",
       "    .dataframe tbody tr th {\n",
       "        vertical-align: top;\n",
       "    }\n",
       "\n",
       "    .dataframe thead th {\n",
       "        text-align: right;\n",
       "    }\n",
       "</style>\n",
       "<table border=\"1\" class=\"dataframe\">\n",
       "  <thead>\n",
       "    <tr style=\"text-align: right;\">\n",
       "      <th></th>\n",
       "      <th>Unnamed: 0</th>\n",
       "      <th>Year</th>\n",
       "      <th>Name</th>\n",
       "      <th>date</th>\n",
       "    </tr>\n",
       "  </thead>\n",
       "  <tbody>\n",
       "    <tr>\n",
       "      <th>0</th>\n",
       "      <td>0</td>\n",
       "      <td>766</td>\n",
       "      <td>Ali al-Ridha (d. 818) 8th Imam of Twelver Shia...</td>\n",
       "      <td>January 1</td>\n",
       "    </tr>\n",
       "    <tr>\n",
       "      <th>1</th>\n",
       "      <td>1</td>\n",
       "      <td>1431</td>\n",
       "      <td>Pope Alexander VI (d. 1503)</td>\n",
       "      <td>January 1</td>\n",
       "    </tr>\n",
       "    <tr>\n",
       "      <th>2</th>\n",
       "      <td>2</td>\n",
       "      <td>1449</td>\n",
       "      <td>Lorenzo de' Medici, Italian politician (d. 1492)</td>\n",
       "      <td>January 1</td>\n",
       "    </tr>\n",
       "    <tr>\n",
       "      <th>3</th>\n",
       "      <td>3</td>\n",
       "      <td>1467</td>\n",
       "      <td>Sigismund I the Old, Polish king (d. 1548)</td>\n",
       "      <td>January 1</td>\n",
       "    </tr>\n",
       "    <tr>\n",
       "      <th>4</th>\n",
       "      <td>4</td>\n",
       "      <td>1484</td>\n",
       "      <td>Huldrych Zwingli, Swiss pastor and theologian ...</td>\n",
       "      <td>January 1</td>\n",
       "    </tr>\n",
       "  </tbody>\n",
       "</table>\n",
       "</div>"
      ],
      "text/plain": [
       "   Unnamed: 0  Year                                               Name  \\\n",
       "0           0   766  Ali al-Ridha (d. 818) 8th Imam of Twelver Shia...   \n",
       "1           1  1431                        Pope Alexander VI (d. 1503)   \n",
       "2           2  1449   Lorenzo de' Medici, Italian politician (d. 1492)   \n",
       "3           3  1467         Sigismund I the Old, Polish king (d. 1548)   \n",
       "4           4  1484  Huldrych Zwingli, Swiss pastor and theologian ...   \n",
       "\n",
       "        date  \n",
       "0  January 1  \n",
       "1  January 1  \n",
       "2  January 1  \n",
       "3  January 1  \n",
       "4  January 1  "
      ]
     },
     "execution_count": 15,
     "metadata": {},
     "output_type": "execute_result"
    }
   ],
   "source": [
    "df = pd.read_csv(\"famous_births.csv\")\n",
    "df.head()"
   ]
  },
  {
   "cell_type": "code",
   "execution_count": 16,
   "metadata": {},
   "outputs": [
    {
     "data": {
      "text/plain": [
       "77145"
      ]
     },
     "execution_count": 16,
     "metadata": {},
     "output_type": "execute_result"
    }
   ],
   "source": [
    "len(df)"
   ]
  },
  {
   "cell_type": "code",
   "execution_count": null,
   "metadata": {},
   "outputs": [
    {
     "name": "stdout",
     "output_type": "stream",
     "text": [
      "0\n"
     ]
    },
    {
     "name": "stderr",
     "output_type": "stream",
     "text": [
      "C:\\Users\\joe\\AppData\\Local\\Continuum\\anaconda3\\envs\\ds\\lib\\site-packages\\wikipedia\\wikipedia.py:389: UserWarning:\n",
      "\n",
      "No parser was explicitly specified, so I'm using the best available HTML parser for this system (\"html.parser\"). This usually isn't a problem, but if you run this code on another system, or in a different virtual environment, it may use a different parser and behave differently.\n",
      "\n",
      "The code that caused this warning is on line 389 of the file C:\\Users\\joe\\AppData\\Local\\Continuum\\anaconda3\\envs\\ds\\lib\\site-packages\\wikipedia\\wikipedia.py. To get rid of this warning, pass the additional argument 'features=\"html.parser\"' to the BeautifulSoup constructor.\n",
      "\n",
      "\n"
     ]
    },
    {
     "name": "stdout",
     "output_type": "stream",
     "text": [
      "500\n",
      "1000\n"
     ]
    }
   ],
   "source": [
    "dates = []\n",
    "summaries = []\n",
    "for num, celeb in enumerate(df[\"Name\"]): \n",
    "    if num%500 == 0: \n",
    "        print(num)\n",
    "    \n",
    "    \n",
    "    try:\n",
    "        d, c = get_data(celeb)\n",
    "    except: \n",
    "        d = \"\"\n",
    "        c = \"\"\n",
    "    dates.append(d)\n",
    "    summaries.append(c)"
   ]
  },
  {
   "cell_type": "code",
   "execution_count": null,
   "metadata": {},
   "outputs": [],
   "source": [
    "df[\"birthday\"] = dates\n",
    "df[\"summary\"] = summaries\n",
    "df.to_csv(\"dated_births.csv\")"
   ]
  }
 ],
 "metadata": {
  "kernelspec": {
   "display_name": "Python 3",
   "language": "python",
   "name": "python3"
  },
  "language_info": {
   "codemirror_mode": {
    "name": "ipython",
    "version": 3
   },
   "file_extension": ".py",
   "mimetype": "text/x-python",
   "name": "python",
   "nbconvert_exporter": "python",
   "pygments_lexer": "ipython3",
   "version": "3.9.5"
  }
 },
 "nbformat": 4,
 "nbformat_minor": 4
}
