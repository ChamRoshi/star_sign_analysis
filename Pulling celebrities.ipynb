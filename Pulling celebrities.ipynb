{
 "cells": [
  {
   "cell_type": "code",
   "execution_count": 1,
   "metadata": {},
   "outputs": [],
   "source": [
    "# import pywikibot\n",
    "# import wikipedia\n",
    "import wikipediaapi"
   ]
  },
  {
   "cell_type": "markdown",
   "metadata": {},
   "source": [
    "site = pywikibot.Site(\"en\", \"wikipedia\")  # The site we want to run our bot on\n",
    "page = pywikibot.Page(site, \"January 1\")"
   ]
  },
  {
   "cell_type": "markdown",
   "metadata": {},
   "source": [
    "page.full_url()"
   ]
  },
  {
   "cell_type": "markdown",
   "metadata": {},
   "source": [
    "page.pageid"
   ]
  },
  {
   "cell_type": "code",
   "execution_count": 2,
   "metadata": {},
   "outputs": [],
   "source": [
    "# def pull_page(page_name):\n",
    "#     site = pywikibot.Site(\"en\", \"wikipedia\")  # The site we want to run our bot on\n",
    "#     page = pywikibot.Page(site, page_name)\n",
    "#     page_id = page.pageid\n",
    "#     page = wikipedia.page(pageid=page_id)\n",
    "#     return page"
   ]
  },
  {
   "cell_type": "code",
   "execution_count": 3,
   "metadata": {},
   "outputs": [],
   "source": [
    "numbers = range(1, 31)\n",
    "months = [\n",
    "    \"January\",\n",
    "    \"February\",\n",
    "    \"March\",\n",
    "    \"April\",\n",
    "    \"May\",\n",
    "    \"June\",\n",
    "    \"July\",\n",
    "    \"August\",\n",
    "    \"September\",\n",
    "    \"October\",\n",
    "    \"November\",\n",
    "    \"December\",\n",
    "]"
   ]
  },
  {
   "cell_type": "code",
   "execution_count": 4,
   "metadata": {},
   "outputs": [],
   "source": [
    "wiki_wiki = wikipediaapi.Wikipedia(\n",
    "    user_agent=\"Star_sign_prediction (jbm112358@gmail.com)\", language=\"en\"\n",
    ")\n",
    "\n",
    "page_py = wiki_wiki.page(\"January_1\")"
   ]
  },
  {
   "cell_type": "code",
   "execution_count": 14,
   "metadata": {},
   "outputs": [
    {
     "name": "stdout",
     "output_type": "stream",
     "text": [
      "January\n",
      "problem with January_17: 2 columns passed, passed data had 5 columns\n",
      "problem with January_23: 2 columns passed, passed data had 3 columns\n",
      "February\n",
      "problem with February_30: 2 columns passed, passed data had 1 columns\n",
      "March\n",
      "April\n",
      "May\n",
      "June\n",
      "July\n",
      "August\n",
      "September\n",
      "problem with September_6: 2 columns passed, passed data had 3 columns\n",
      "October\n",
      "November\n",
      "December\n"
     ]
    }
   ],
   "source": [
    "all_df = pd.DataFrame()\n",
    "for month in months:\n",
    "    print(month)\n",
    "    for day in numbers:\n",
    "        try:\n",
    "            page = wiki_wiki.page(f\"{month}_{day}\")\n",
    "            temp_df = pd.DataFrame(\n",
    "                [\n",
    "                    [y.strip() for y in x.split(\" – \")]\n",
    "                    for x in str(page.section_by_title(\"Births\")).split(\"\\n\")\n",
    "                ],\n",
    "                columns=[\"Year\", \"Name\"],\n",
    "            )\n",
    "            temp_df[\"date\"] = f\"{month} {day}\"\n",
    "            all_df = pd.concat([all_df, temp_df])\n",
    "        except Exception as e:\n",
    "            print(f\"problem with {month}_{day}: {e}\")\n",
    "    #     break\n",
    "    # break"
   ]
  },
  {
   "cell_type": "code",
   "execution_count": 13,
   "metadata": {},
   "outputs": [
    {
     "data": {
      "text/html": [
       "<div>\n",
       "<style scoped>\n",
       "    .dataframe tbody tr th:only-of-type {\n",
       "        vertical-align: middle;\n",
       "    }\n",
       "\n",
       "    .dataframe tbody tr th {\n",
       "        vertical-align: top;\n",
       "    }\n",
       "\n",
       "    .dataframe thead th {\n",
       "        text-align: right;\n",
       "    }\n",
       "</style>\n",
       "<table border=\"1\" class=\"dataframe\">\n",
       "  <thead>\n",
       "    <tr style=\"text-align: right;\">\n",
       "      <th></th>\n",
       "      <th>Year</th>\n",
       "      <th>Name</th>\n",
       "      <th>date</th>\n",
       "    </tr>\n",
       "  </thead>\n",
       "  <tbody>\n",
       "    <tr>\n",
       "      <th>0</th>\n",
       "      <td>Section: Births (1):</td>\n",
       "      <td>None</td>\n",
       "      <td>January 1</td>\n",
       "    </tr>\n",
       "    <tr>\n",
       "      <th>1</th>\n",
       "      <td></td>\n",
       "      <td>None</td>\n",
       "      <td>January 1</td>\n",
       "    </tr>\n",
       "    <tr>\n",
       "      <th>2</th>\n",
       "      <td>Subsections (3):</td>\n",
       "      <td>None</td>\n",
       "      <td>January 1</td>\n",
       "    </tr>\n",
       "    <tr>\n",
       "      <th>3</th>\n",
       "      <td>Section: Pre-1600 (2):</td>\n",
       "      <td>None</td>\n",
       "      <td>January 1</td>\n",
       "    </tr>\n",
       "    <tr>\n",
       "      <th>4</th>\n",
       "      <td>766</td>\n",
       "      <td>Ali al-Ridha, 8th Imam of Twelver Shia Islam (...</td>\n",
       "      <td>January 1</td>\n",
       "    </tr>\n",
       "  </tbody>\n",
       "</table>\n",
       "</div>"
      ],
      "text/plain": [
       "                     Year                                               Name  \\\n",
       "0    Section: Births (1):                                               None   \n",
       "1                                                                       None   \n",
       "2        Subsections (3):                                               None   \n",
       "3  Section: Pre-1600 (2):                                               None   \n",
       "4                     766  Ali al-Ridha, 8th Imam of Twelver Shia Islam (...   \n",
       "\n",
       "        date  \n",
       "0  January 1  \n",
       "1  January 1  \n",
       "2  January 1  \n",
       "3  January 1  \n",
       "4  January 1  "
      ]
     },
     "execution_count": 13,
     "metadata": {},
     "output_type": "execute_result"
    }
   ],
   "source": [
    "all_df.head()"
   ]
  },
  {
   "cell_type": "code",
   "execution_count": 15,
   "metadata": {},
   "outputs": [],
   "source": [
    "all_df.to_csv(\"famous_births.csv\")"
   ]
  },
  {
   "cell_type": "code",
   "execution_count": 16,
   "metadata": {},
   "outputs": [],
   "source": [
    "all_df[\"Year\"] = pd.to_numeric(all_df[\"Year\"], errors=\"coerce\")"
   ]
  },
  {
   "cell_type": "code",
   "execution_count": 17,
   "metadata": {},
   "outputs": [
    {
     "data": {
      "text/plain": [
       "<Axes: ylabel='Frequency'>"
      ]
     },
     "execution_count": 17,
     "metadata": {},
     "output_type": "execute_result"
    },
    {
     "data": {
      "image/png": "[encoded data removed]",
      "text/plain": [
       "<Figure size 800x550 with 1 Axes>"
      ]
     },
     "metadata": {},
     "output_type": "display_data"
    }
   ],
   "source": [
    "all_df[\"Year\"].plot.hist()"
   ]
  },
  {
   "cell_type": "code",
   "execution_count": 18,
   "metadata": {},
   "outputs": [
    {
     "name": "stdout",
     "output_type": "stream",
     "text": [
      "83251\n"
     ]
    }
   ],
   "source": [
    "print(len(all_df))"
   ]
  },
  {
   "cell_type": "code",
   "execution_count": 19,
   "metadata": {},
   "outputs": [
    {
     "data": {
      "text/html": [
       "<div>\n",
       "<style scoped>\n",
       "    .dataframe tbody tr th:only-of-type {\n",
       "        vertical-align: middle;\n",
       "    }\n",
       "\n",
       "    .dataframe tbody tr th {\n",
       "        vertical-align: top;\n",
       "    }\n",
       "\n",
       "    .dataframe thead th {\n",
       "        text-align: right;\n",
       "    }\n",
       "</style>\n",
       "<table border=\"1\" class=\"dataframe\">\n",
       "  <thead>\n",
       "    <tr style=\"text-align: right;\">\n",
       "      <th></th>\n",
       "      <th>Year</th>\n",
       "      <th>Name</th>\n",
       "      <th>count</th>\n",
       "    </tr>\n",
       "    <tr>\n",
       "      <th>date</th>\n",
       "      <th></th>\n",
       "      <th></th>\n",
       "      <th></th>\n",
       "    </tr>\n",
       "  </thead>\n",
       "  <tbody>\n",
       "    <tr>\n",
       "      <th>April 5</th>\n",
       "      <td>552</td>\n",
       "      <td>552</td>\n",
       "      <td>564</td>\n",
       "    </tr>\n",
       "    <tr>\n",
       "      <th>November 20</th>\n",
       "      <td>509</td>\n",
       "      <td>509</td>\n",
       "      <td>521</td>\n",
       "    </tr>\n",
       "    <tr>\n",
       "      <th>October 25</th>\n",
       "      <td>442</td>\n",
       "      <td>442</td>\n",
       "      <td>454</td>\n",
       "    </tr>\n",
       "    <tr>\n",
       "      <th>January 21</th>\n",
       "      <td>439</td>\n",
       "      <td>439</td>\n",
       "      <td>451</td>\n",
       "    </tr>\n",
       "    <tr>\n",
       "      <th>March 4</th>\n",
       "      <td>432</td>\n",
       "      <td>432</td>\n",
       "      <td>444</td>\n",
       "    </tr>\n",
       "  </tbody>\n",
       "</table>\n",
       "</div>"
      ],
      "text/plain": [
       "             Year  Name  count\n",
       "date                          \n",
       "April 5       552   552    564\n",
       "November 20   509   509    521\n",
       "October 25    442   442    454\n",
       "January 21    439   439    451\n",
       "March 4       432   432    444"
      ]
     },
     "execution_count": 19,
     "metadata": {},
     "output_type": "execute_result"
    }
   ],
   "source": [
    "all_df[\"count\"] = 1\n",
    "all_df.groupby(\"date\").count().sort_values(\"count\", ascending=False).head()"
   ]
  },
  {
   "cell_type": "code",
   "execution_count": null,
   "metadata": {},
   "outputs": [],
   "source": []
  }
 ],
 "metadata": {
  "kernelspec": {
   "display_name": "Python 3 (ipykernel)",
   "language": "python",
   "name": "python3"
  },
  "language_info": {
   "codemirror_mode": {
    "name": "ipython",
    "version": 3
   },
   "file_extension": ".py",
   "mimetype": "text/x-python",
   "name": "python",
   "nbconvert_exporter": "python",
   "pygments_lexer": "ipython3",
   "version": "3.10.8"
  }
 },
 "nbformat": 4,
 "nbformat_minor": 4
}
