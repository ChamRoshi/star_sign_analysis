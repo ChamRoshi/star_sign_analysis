{
 "cells": [
  {
   "cell_type": "code",
   "execution_count": 1,
   "metadata": {},
   "outputs": [],
   "source": [
    "import pickle\n",
    "with open(\"lr_model.sk\", \"rb\") as file: \n",
    "    model = pickle.load(file)"
   ]
  },
  {
   "cell_type": "code",
   "execution_count": 2,
   "metadata": {},
   "outputs": [],
   "source": [
    "def num_there(s):\n",
    "    return any(i.isdigit() for i in s)"
   ]
  },
  {
   "cell_type": "code",
   "execution_count": 3,
   "metadata": {},
   "outputs": [],
   "source": [
    "df = pd.read_excel(\"adj_preped_target.xlsx\") "
   ]
  },
  {
   "cell_type": "code",
   "execution_count": 4,
   "metadata": {},
   "outputs": [
    {
     "data": {
      "text/plain": [
       "'Ali ibn Musa al-Ridha (Arabic: عَلِيّ ٱبْن مُوسَىٰ ٱلرِّضَا\\u200e, Alīy Mūsā ar-Riḍā; c. 29 December 766 – 23 August 818), also spelled Rida or Reza in Persian, also known as Abu al-Hasan, was a descendant of the Islamic prophet,  Muhammad, and the eighth Shia Imam, after his father Musa al-Kadhim, and before his son Muhammad al-Jawad. He was an Imam of knowledge according to the Zaydi (Fiver) Shia school and Sufis. He lived in a period when Abbasid caliphs were facing numerous difficulties, the most important of which was Shia revolts. The Caliph Al-Ma\\'mun sought out a remedy for this problem by appointing Al-Ridha as his successor, through whom he could be involved in worldly affairs. However, according to the Shia view, when Al-Ma\\'mun saw that the Imam gained even more popularity, he decided to correct his mistake by poisoning him. The Imam was buried at the Imam Reza shrine in a village in Khorasan, which afterwards gained the name Mashhad, meaning \"place of martyrdom\".\\n\\n\\n== Birth and f'"
      ]
     },
     "execution_count": 4,
     "metadata": {},
     "output_type": "execute_result"
    }
   ],
   "source": [
    "df[\"summary\"][0][:1000]"
   ]
  },
  {
   "cell_type": "code",
   "execution_count": 5,
   "metadata": {},
   "outputs": [],
   "source": [
    "features = pd.read_csv(\"adj_features.csv\")\n",
    "features = features[[x for x in features.columns if x not in [\"april\" ,\n",
    "\"november\"   ,\n",
    "\"december\",\n",
    "\"september\" ,\n",
    "\"may\"     ,   \n",
    "\"august\"   ,  \n",
    "\"june\"   ,   \n",
    "\"october\"   ,\n",
    "\"july\"  ,   \n",
    "\"january\",\n",
    "\"march\",  \n",
    "\"february\" ] and num_there(x) == False ]]"
   ]
  },
  {
   "cell_type": "code",
   "execution_count": 6,
   "metadata": {},
   "outputs": [
    {
     "data": {
      "text/html": [
       "<div>\n",
       "<style scoped>\n",
       "    .dataframe tbody tr th:only-of-type {\n",
       "        vertical-align: middle;\n",
       "    }\n",
       "\n",
       "    .dataframe tbody tr th {\n",
       "        vertical-align: top;\n",
       "    }\n",
       "\n",
       "    .dataframe thead th {\n",
       "        text-align: right;\n",
       "    }\n",
       "</style>\n",
       "<table border=\"1\" class=\"dataframe\">\n",
       "  <thead>\n",
       "    <tr style=\"text-align: right;\">\n",
       "      <th></th>\n",
       "      <th>abbasid</th>\n",
       "      <th>abelian</th>\n",
       "      <th>able</th>\n",
       "      <th>aboriginal</th>\n",
       "      <th>absent</th>\n",
       "      <th>absolute</th>\n",
       "      <th>abstract</th>\n",
       "      <th>abusive</th>\n",
       "      <th>academic</th>\n",
       "      <th>accessible</th>\n",
       "      <th>...</th>\n",
       "      <th>yearly</th>\n",
       "      <th>yellow</th>\n",
       "      <th>yemeni</th>\n",
       "      <th>yiddish</th>\n",
       "      <th>young</th>\n",
       "      <th>younger</th>\n",
       "      <th>youngest</th>\n",
       "      <th>yugoslav</th>\n",
       "      <th>zimbabwean</th>\n",
       "      <th>zionist</th>\n",
       "    </tr>\n",
       "  </thead>\n",
       "  <tbody>\n",
       "    <tr>\n",
       "      <th>0</th>\n",
       "      <td>1</td>\n",
       "      <td>0</td>\n",
       "      <td>0</td>\n",
       "      <td>0</td>\n",
       "      <td>0</td>\n",
       "      <td>0</td>\n",
       "      <td>0</td>\n",
       "      <td>0</td>\n",
       "      <td>0</td>\n",
       "      <td>0</td>\n",
       "      <td>...</td>\n",
       "      <td>0</td>\n",
       "      <td>0</td>\n",
       "      <td>0</td>\n",
       "      <td>0</td>\n",
       "      <td>0</td>\n",
       "      <td>0</td>\n",
       "      <td>0</td>\n",
       "      <td>0</td>\n",
       "      <td>0</td>\n",
       "      <td>0</td>\n",
       "    </tr>\n",
       "    <tr>\n",
       "      <th>1</th>\n",
       "      <td>0</td>\n",
       "      <td>0</td>\n",
       "      <td>0</td>\n",
       "      <td>0</td>\n",
       "      <td>0</td>\n",
       "      <td>0</td>\n",
       "      <td>0</td>\n",
       "      <td>0</td>\n",
       "      <td>0</td>\n",
       "      <td>0</td>\n",
       "      <td>...</td>\n",
       "      <td>0</td>\n",
       "      <td>0</td>\n",
       "      <td>0</td>\n",
       "      <td>0</td>\n",
       "      <td>0</td>\n",
       "      <td>0</td>\n",
       "      <td>0</td>\n",
       "      <td>0</td>\n",
       "      <td>0</td>\n",
       "      <td>0</td>\n",
       "    </tr>\n",
       "    <tr>\n",
       "      <th>2</th>\n",
       "      <td>0</td>\n",
       "      <td>0</td>\n",
       "      <td>0</td>\n",
       "      <td>0</td>\n",
       "      <td>0</td>\n",
       "      <td>0</td>\n",
       "      <td>0</td>\n",
       "      <td>0</td>\n",
       "      <td>0</td>\n",
       "      <td>0</td>\n",
       "      <td>...</td>\n",
       "      <td>0</td>\n",
       "      <td>0</td>\n",
       "      <td>0</td>\n",
       "      <td>0</td>\n",
       "      <td>0</td>\n",
       "      <td>1</td>\n",
       "      <td>0</td>\n",
       "      <td>0</td>\n",
       "      <td>0</td>\n",
       "      <td>0</td>\n",
       "    </tr>\n",
       "    <tr>\n",
       "      <th>3</th>\n",
       "      <td>0</td>\n",
       "      <td>0</td>\n",
       "      <td>0</td>\n",
       "      <td>0</td>\n",
       "      <td>0</td>\n",
       "      <td>0</td>\n",
       "      <td>0</td>\n",
       "      <td>0</td>\n",
       "      <td>0</td>\n",
       "      <td>0</td>\n",
       "      <td>...</td>\n",
       "      <td>0</td>\n",
       "      <td>0</td>\n",
       "      <td>0</td>\n",
       "      <td>0</td>\n",
       "      <td>0</td>\n",
       "      <td>0</td>\n",
       "      <td>0</td>\n",
       "      <td>0</td>\n",
       "      <td>0</td>\n",
       "      <td>0</td>\n",
       "    </tr>\n",
       "    <tr>\n",
       "      <th>4</th>\n",
       "      <td>0</td>\n",
       "      <td>0</td>\n",
       "      <td>0</td>\n",
       "      <td>0</td>\n",
       "      <td>0</td>\n",
       "      <td>0</td>\n",
       "      <td>0</td>\n",
       "      <td>0</td>\n",
       "      <td>0</td>\n",
       "      <td>0</td>\n",
       "      <td>...</td>\n",
       "      <td>0</td>\n",
       "      <td>0</td>\n",
       "      <td>0</td>\n",
       "      <td>0</td>\n",
       "      <td>0</td>\n",
       "      <td>0</td>\n",
       "      <td>0</td>\n",
       "      <td>0</td>\n",
       "      <td>0</td>\n",
       "      <td>0</td>\n",
       "    </tr>\n",
       "  </tbody>\n",
       "</table>\n",
       "<p>5 rows × 1758 columns</p>\n",
       "</div>"
      ],
      "text/plain": [
       "   abbasid  abelian  able  aboriginal  absent  absolute  abstract  abusive  \\\n",
       "0        1        0     0           0       0         0         0        0   \n",
       "1        0        0     0           0       0         0         0        0   \n",
       "2        0        0     0           0       0         0         0        0   \n",
       "3        0        0     0           0       0         0         0        0   \n",
       "4        0        0     0           0       0         0         0        0   \n",
       "\n",
       "   academic  accessible  ...  yearly  yellow  yemeni  yiddish  young  younger  \\\n",
       "0         0           0  ...       0       0       0        0      0        0   \n",
       "1         0           0  ...       0       0       0        0      0        0   \n",
       "2         0           0  ...       0       0       0        0      0        1   \n",
       "3         0           0  ...       0       0       0        0      0        0   \n",
       "4         0           0  ...       0       0       0        0      0        0   \n",
       "\n",
       "   youngest  yugoslav  zimbabwean  zionist  \n",
       "0         0         0           0        0  \n",
       "1         0         0           0        0  \n",
       "2         0         0           0        0  \n",
       "3         0         0           0        0  \n",
       "4         0         0           0        0  \n",
       "\n",
       "[5 rows x 1758 columns]"
      ]
     },
     "execution_count": 6,
     "metadata": {},
     "output_type": "execute_result"
    }
   ],
   "source": [
    "features.head()"
   ]
  },
  {
   "cell_type": "code",
   "execution_count": 7,
   "metadata": {},
   "outputs": [
    {
     "data": {
      "text/plain": [
       "array(['Sag', 'Cap', 'Cap', ..., 'Sag', 'Can', 'Pis'], dtype=object)"
      ]
     },
     "execution_count": 7,
     "metadata": {},
     "output_type": "execute_result"
    }
   ],
   "source": [
    "model.predict(features)"
   ]
  },
  {
   "cell_type": "code",
   "execution_count": 8,
   "metadata": {},
   "outputs": [],
   "source": [
    "test = df[\"summary\"][0]"
   ]
  },
  {
   "cell_type": "code",
   "execution_count": 9,
   "metadata": {},
   "outputs": [],
   "source": [
    "def build_features(x):\n",
    "    tlist = {}\n",
    "    for y in features.columns: \n",
    "        tlist[y] = [x.count(y)]\n",
    "    \n",
    "    df2 = pd.DataFrame(tlist)\n",
    "    return df2"
   ]
  },
  {
   "cell_type": "code",
   "execution_count": 10,
   "metadata": {},
   "outputs": [
    {
     "data": {
      "text/html": [
       "<div>\n",
       "<style scoped>\n",
       "    .dataframe tbody tr th:only-of-type {\n",
       "        vertical-align: middle;\n",
       "    }\n",
       "\n",
       "    .dataframe tbody tr th {\n",
       "        vertical-align: top;\n",
       "    }\n",
       "\n",
       "    .dataframe thead th {\n",
       "        text-align: right;\n",
       "    }\n",
       "</style>\n",
       "<table border=\"1\" class=\"dataframe\">\n",
       "  <thead>\n",
       "    <tr style=\"text-align: right;\">\n",
       "      <th></th>\n",
       "      <th>abbasid</th>\n",
       "      <th>abelian</th>\n",
       "      <th>able</th>\n",
       "      <th>aboriginal</th>\n",
       "      <th>absent</th>\n",
       "      <th>absolute</th>\n",
       "      <th>abstract</th>\n",
       "      <th>abusive</th>\n",
       "      <th>academic</th>\n",
       "      <th>accessible</th>\n",
       "      <th>...</th>\n",
       "      <th>yearly</th>\n",
       "      <th>yellow</th>\n",
       "      <th>yemeni</th>\n",
       "      <th>yiddish</th>\n",
       "      <th>young</th>\n",
       "      <th>younger</th>\n",
       "      <th>youngest</th>\n",
       "      <th>yugoslav</th>\n",
       "      <th>zimbabwean</th>\n",
       "      <th>zionist</th>\n",
       "    </tr>\n",
       "  </thead>\n",
       "  <tbody>\n",
       "    <tr>\n",
       "      <th>0</th>\n",
       "      <td>0</td>\n",
       "      <td>0</td>\n",
       "      <td>3</td>\n",
       "      <td>0</td>\n",
       "      <td>0</td>\n",
       "      <td>0</td>\n",
       "      <td>0</td>\n",
       "      <td>0</td>\n",
       "      <td>0</td>\n",
       "      <td>0</td>\n",
       "      <td>...</td>\n",
       "      <td>0</td>\n",
       "      <td>1</td>\n",
       "      <td>0</td>\n",
       "      <td>0</td>\n",
       "      <td>0</td>\n",
       "      <td>0</td>\n",
       "      <td>0</td>\n",
       "      <td>0</td>\n",
       "      <td>0</td>\n",
       "      <td>0</td>\n",
       "    </tr>\n",
       "  </tbody>\n",
       "</table>\n",
       "<p>1 rows × 1758 columns</p>\n",
       "</div>"
      ],
      "text/plain": [
       "   abbasid  abelian  able  aboriginal  absent  absolute  abstract  abusive  \\\n",
       "0        0        0     3           0       0         0         0        0   \n",
       "\n",
       "   academic  accessible  ...  yearly  yellow  yemeni  yiddish  young  younger  \\\n",
       "0         0           0  ...       0       1       0        0      0        0   \n",
       "\n",
       "   youngest  yugoslav  zimbabwean  zionist  \n",
       "0         0         0           0        0  \n",
       "\n",
       "[1 rows x 1758 columns]"
      ]
     },
     "execution_count": 10,
     "metadata": {},
     "output_type": "execute_result"
    }
   ],
   "source": [
    "build_features(test)"
   ]
  },
  {
   "cell_type": "code",
   "execution_count": 11,
   "metadata": {},
   "outputs": [
    {
     "data": {
      "text/plain": [
       "array(['Lib'], dtype=object)"
      ]
     },
     "execution_count": 11,
     "metadata": {},
     "output_type": "execute_result"
    }
   ],
   "source": [
    "model.predict(build_features(test))"
   ]
  },
  {
   "cell_type": "code",
   "execution_count": 12,
   "metadata": {},
   "outputs": [],
   "source": [
    "def predict_text(x):\n",
    "    res = build_features(x)\n",
    "    return model.predict(res)[0]\n",
    "    "
   ]
  },
  {
   "cell_type": "code",
   "execution_count": 13,
   "metadata": {},
   "outputs": [
    {
     "data": {
      "text/plain": [
       "'Lib'"
      ]
     },
     "execution_count": 13,
     "metadata": {},
     "output_type": "execute_result"
    }
   ],
   "source": [
    "predict_text(test)"
   ]
  },
  {
   "cell_type": "code",
   "execution_count": null,
   "metadata": {},
   "outputs": [],
   "source": []
  }
 ],
 "metadata": {
  "kernelspec": {
   "display_name": "Python 3",
   "language": "python",
   "name": "python3"
  },
  "language_info": {
   "codemirror_mode": {
    "name": "ipython",
    "version": 3
   },
   "file_extension": ".py",
   "mimetype": "text/x-python",
   "name": "python",
   "nbconvert_exporter": "python",
   "pygments_lexer": "ipython3",
   "version": "3.6.10"
  }
 },
 "nbformat": 4,
 "nbformat_minor": 4
}
